{
 "cells": [
  {
   "cell_type": "code",
   "execution_count": 4,
   "id": "33e18cfe",
   "metadata": {},
   "outputs": [],
   "source": [
    "import warnings \n",
    "warnings.filterwarnings(\"ignore\")\n",
    "import pandas as pd\n",
    "import numpy as np\n",
    "import datetime\n",
    "from datetime import date "
   ]
  },
  {
   "cell_type": "code",
   "execution_count": 5,
   "id": "7588d562",
   "metadata": {},
   "outputs": [],
   "source": [
    "customers = pd.read_csv('customers.csv')\n",
    "properties= pd.read_csv('properties.csv')"
   ]
  },
  {
   "cell_type": "code",
   "execution_count": 6,
   "id": "32bcfad1",
   "metadata": {},
   "outputs": [
    {
     "data": {
      "text/html": [
       "<div>\n",
       "<style scoped>\n",
       "    .dataframe tbody tr th:only-of-type {\n",
       "        vertical-align: middle;\n",
       "    }\n",
       "\n",
       "    .dataframe tbody tr th {\n",
       "        vertical-align: top;\n",
       "    }\n",
       "\n",
       "    .dataframe thead th {\n",
       "        text-align: right;\n",
       "    }\n",
       "</style>\n",
       "<table border=\"1\" class=\"dataframe\">\n",
       "  <thead>\n",
       "    <tr style=\"text-align: right;\">\n",
       "      <th></th>\n",
       "      <th>Unnamed: 0</th>\n",
       "      <th>CustomerID</th>\n",
       "      <th>entity</th>\n",
       "      <th>name</th>\n",
       "      <th>surname</th>\n",
       "      <th>birth_date</th>\n",
       "      <th>sex</th>\n",
       "      <th>country</th>\n",
       "      <th>state</th>\n",
       "      <th>purpose</th>\n",
       "      <th>deal_satisfaction</th>\n",
       "      <th>mortgage</th>\n",
       "      <th>source</th>\n",
       "    </tr>\n",
       "  </thead>\n",
       "  <tbody>\n",
       "    <tr>\n",
       "      <th>0</th>\n",
       "      <td>154</td>\n",
       "      <td>C0001</td>\n",
       "      <td>Company</td>\n",
       "      <td>Kamd</td>\n",
       "      <td>Co</td>\n",
       "      <td>NaN</td>\n",
       "      <td>NaN</td>\n",
       "      <td>USA</td>\n",
       "      <td>California</td>\n",
       "      <td>Investment</td>\n",
       "      <td>5</td>\n",
       "      <td>No</td>\n",
       "      <td>Agency</td>\n",
       "    </tr>\n",
       "    <tr>\n",
       "      <th>1</th>\n",
       "      <td>101</td>\n",
       "      <td>C0002</td>\n",
       "      <td>Individual</td>\n",
       "      <td>Jack</td>\n",
       "      <td>Anderson</td>\n",
       "      <td>2/13/1947</td>\n",
       "      <td>M</td>\n",
       "      <td>USA</td>\n",
       "      <td>California</td>\n",
       "      <td>Investment</td>\n",
       "      <td>5</td>\n",
       "      <td>Yes</td>\n",
       "      <td>Website</td>\n",
       "    </tr>\n",
       "    <tr>\n",
       "      <th>2</th>\n",
       "      <td>93</td>\n",
       "      <td>C0003</td>\n",
       "      <td>Individual</td>\n",
       "      <td>Avah</td>\n",
       "      <td>Huang</td>\n",
       "      <td>4/23/1948</td>\n",
       "      <td>F</td>\n",
       "      <td>USA</td>\n",
       "      <td>California</td>\n",
       "      <td>Personal Use</td>\n",
       "      <td>5</td>\n",
       "      <td>No</td>\n",
       "      <td>Website</td>\n",
       "    </tr>\n",
       "    <tr>\n",
       "      <th>3</th>\n",
       "      <td>77</td>\n",
       "      <td>C0004</td>\n",
       "      <td>Individual</td>\n",
       "      <td>Nora</td>\n",
       "      <td>Lynch</td>\n",
       "      <td>4/23/1948</td>\n",
       "      <td>F</td>\n",
       "      <td>USA</td>\n",
       "      <td>California</td>\n",
       "      <td>Personal Use</td>\n",
       "      <td>5</td>\n",
       "      <td>No</td>\n",
       "      <td>Website</td>\n",
       "    </tr>\n",
       "    <tr>\n",
       "      <th>4</th>\n",
       "      <td>24</td>\n",
       "      <td>C0005</td>\n",
       "      <td>Individual</td>\n",
       "      <td>Rodolfo</td>\n",
       "      <td>Gibson</td>\n",
       "      <td>1/20/1937</td>\n",
       "      <td>M</td>\n",
       "      <td>USA</td>\n",
       "      <td>Nevada</td>\n",
       "      <td>Personal Use</td>\n",
       "      <td>2</td>\n",
       "      <td>Yes</td>\n",
       "      <td>Website</td>\n",
       "    </tr>\n",
       "  </tbody>\n",
       "</table>\n",
       "</div>"
      ],
      "text/plain": [
       "   Unnamed: 0 CustomerID      entity     name   surname birth_date  sex  \\\n",
       "0         154      C0001     Company     Kamd        Co        NaN  NaN   \n",
       "1         101      C0002  Individual     Jack  Anderson  2/13/1947    M   \n",
       "2          93      C0003  Individual     Avah     Huang  4/23/1948    F   \n",
       "3          77      C0004  Individual     Nora     Lynch  4/23/1948    F   \n",
       "4          24      C0005  Individual  Rodolfo    Gibson  1/20/1937    M   \n",
       "\n",
       "  country       state       purpose  deal_satisfaction mortgage   source  \n",
       "0     USA  California    Investment                  5       No   Agency  \n",
       "1     USA  California    Investment                  5      Yes  Website  \n",
       "2     USA  California  Personal Use                  5       No  Website  \n",
       "3     USA  California  Personal Use                  5       No  Website  \n",
       "4     USA      Nevada  Personal Use                  2      Yes  Website  "
      ]
     },
     "execution_count": 6,
     "metadata": {},
     "output_type": "execute_result"
    }
   ],
   "source": [
    "customers.head()\n"
   ]
  },
  {
   "cell_type": "code",
   "execution_count": 7,
   "id": "c2cbbd36",
   "metadata": {},
   "outputs": [
    {
     "data": {
      "text/html": [
       "<div>\n",
       "<style scoped>\n",
       "    .dataframe tbody tr th:only-of-type {\n",
       "        vertical-align: middle;\n",
       "    }\n",
       "\n",
       "    .dataframe tbody tr th {\n",
       "        vertical-align: top;\n",
       "    }\n",
       "\n",
       "    .dataframe thead th {\n",
       "        text-align: right;\n",
       "    }\n",
       "</style>\n",
       "<table border=\"1\" class=\"dataframe\">\n",
       "  <thead>\n",
       "    <tr style=\"text-align: right;\">\n",
       "      <th></th>\n",
       "      <th>Unnamed: 0</th>\n",
       "      <th>homeid</th>\n",
       "      <th>building</th>\n",
       "      <th>date_sale</th>\n",
       "      <th>type</th>\n",
       "      <th>property#</th>\n",
       "      <th>area</th>\n",
       "      <th>price</th>\n",
       "      <th>status</th>\n",
       "      <th>CustomerID</th>\n",
       "    </tr>\n",
       "  </thead>\n",
       "  <tbody>\n",
       "    <tr>\n",
       "      <th>0</th>\n",
       "      <td>179</td>\n",
       "      <td>1005</td>\n",
       "      <td>1</td>\n",
       "      <td>3/1/2004</td>\n",
       "      <td>Office</td>\n",
       "      <td>5</td>\n",
       "      <td>410.71</td>\n",
       "      <td>$117,564.07</td>\n",
       "      <td>Sold</td>\n",
       "      <td>C0001</td>\n",
       "    </tr>\n",
       "    <tr>\n",
       "      <th>1</th>\n",
       "      <td>137</td>\n",
       "      <td>1002</td>\n",
       "      <td>1</td>\n",
       "      <td>3/1/2004</td>\n",
       "      <td>Office</td>\n",
       "      <td>2</td>\n",
       "      <td>1238.58</td>\n",
       "      <td>$410,932.67</td>\n",
       "      <td>Sold</td>\n",
       "      <td>C0002</td>\n",
       "    </tr>\n",
       "    <tr>\n",
       "      <th>2</th>\n",
       "      <td>132</td>\n",
       "      <td>1044</td>\n",
       "      <td>1</td>\n",
       "      <td>6/1/2004</td>\n",
       "      <td>Apartment</td>\n",
       "      <td>44</td>\n",
       "      <td>827.87</td>\n",
       "      <td>$229,464.71</td>\n",
       "      <td>Sold</td>\n",
       "      <td>C0003</td>\n",
       "    </tr>\n",
       "    <tr>\n",
       "      <th>3</th>\n",
       "      <td>133</td>\n",
       "      <td>1043</td>\n",
       "      <td>1</td>\n",
       "      <td>6/1/2004</td>\n",
       "      <td>Apartment</td>\n",
       "      <td>43</td>\n",
       "      <td>1160.36</td>\n",
       "      <td>$377,313.56</td>\n",
       "      <td>Sold</td>\n",
       "      <td>C0004</td>\n",
       "    </tr>\n",
       "    <tr>\n",
       "      <th>4</th>\n",
       "      <td>164</td>\n",
       "      <td>1033</td>\n",
       "      <td>1</td>\n",
       "      <td>8/1/2004</td>\n",
       "      <td>Apartment</td>\n",
       "      <td>33</td>\n",
       "      <td>1434.09</td>\n",
       "      <td>$412,856.56</td>\n",
       "      <td>Sold</td>\n",
       "      <td>C0005</td>\n",
       "    </tr>\n",
       "  </tbody>\n",
       "</table>\n",
       "</div>"
      ],
      "text/plain": [
       "   Unnamed: 0  homeid  building date_sale       type  property#     area  \\\n",
       "0         179    1005         1  3/1/2004     Office          5   410.71   \n",
       "1         137    1002         1  3/1/2004     Office          2  1238.58   \n",
       "2         132    1044         1  6/1/2004  Apartment         44   827.87   \n",
       "3         133    1043         1  6/1/2004  Apartment         43  1160.36   \n",
       "4         164    1033         1  8/1/2004  Apartment         33  1434.09   \n",
       "\n",
       "          price  status CustomerID  \n",
       "0  $117,564.07    Sold       C0001  \n",
       "1  $410,932.67    Sold       C0002  \n",
       "2  $229,464.71    Sold       C0003  \n",
       "3  $377,313.56    Sold       C0004  \n",
       "4  $412,856.56    Sold       C0005  "
      ]
     },
     "execution_count": 7,
     "metadata": {},
     "output_type": "execute_result"
    }
   ],
   "source": [
    "properties.head()"
   ]
  },
  {
   "cell_type": "markdown",
   "id": "9f60a3bf",
   "metadata": {},
   "source": [
    "Merge two datasets into one "
   ]
  },
  {
   "cell_type": "code",
   "execution_count": 8,
   "id": "f87e7f26",
   "metadata": {},
   "outputs": [],
   "source": [
    "df= pd.merge(customers,properties,on='CustomerID',how='left')"
   ]
  },
  {
   "cell_type": "code",
   "execution_count": 9,
   "id": "e0cd6961",
   "metadata": {},
   "outputs": [
    {
     "data": {
      "text/plain": [
       "Index(['Unnamed: 0_x', 'CustomerID', 'entity', 'name', 'surname', 'birth_date',\n",
       "       'sex', 'country', 'state', 'purpose', 'deal_satisfaction', 'mortgage',\n",
       "       'source', 'Unnamed: 0_y', 'homeid', 'building', 'date_sale', 'type',\n",
       "       'property#', 'area', 'price', 'status'],\n",
       "      dtype='object')"
      ]
     },
     "execution_count": 9,
     "metadata": {},
     "output_type": "execute_result"
    }
   ],
   "source": [
    "df.columns"
   ]
  },
  {
   "cell_type": "markdown",
   "id": "abc23181",
   "metadata": {},
   "source": [
    "Removing unwanted columns "
   ]
  },
  {
   "cell_type": "code",
   "execution_count": 10,
   "id": "70c1481f",
   "metadata": {},
   "outputs": [],
   "source": [
    "df= df.drop(['Unnamed: 0_x', 'entity', 'name', 'surname','state','Unnamed: 0_y','building','property#', 'status'],axis=1)"
   ]
  },
  {
   "cell_type": "code",
   "execution_count": 11,
   "id": "d6b6fdcd",
   "metadata": {},
   "outputs": [
    {
     "data": {
      "text/html": [
       "<div>\n",
       "<style scoped>\n",
       "    .dataframe tbody tr th:only-of-type {\n",
       "        vertical-align: middle;\n",
       "    }\n",
       "\n",
       "    .dataframe tbody tr th {\n",
       "        vertical-align: top;\n",
       "    }\n",
       "\n",
       "    .dataframe thead th {\n",
       "        text-align: right;\n",
       "    }\n",
       "</style>\n",
       "<table border=\"1\" class=\"dataframe\">\n",
       "  <thead>\n",
       "    <tr style=\"text-align: right;\">\n",
       "      <th></th>\n",
       "      <th>CustomerID</th>\n",
       "      <th>birth_date</th>\n",
       "      <th>sex</th>\n",
       "      <th>country</th>\n",
       "      <th>purpose</th>\n",
       "      <th>deal_satisfaction</th>\n",
       "      <th>mortgage</th>\n",
       "      <th>source</th>\n",
       "      <th>homeid</th>\n",
       "      <th>date_sale</th>\n",
       "      <th>type</th>\n",
       "      <th>area</th>\n",
       "      <th>price</th>\n",
       "    </tr>\n",
       "  </thead>\n",
       "  <tbody>\n",
       "    <tr>\n",
       "      <th>0</th>\n",
       "      <td>C0001</td>\n",
       "      <td>NaN</td>\n",
       "      <td>NaN</td>\n",
       "      <td>USA</td>\n",
       "      <td>Investment</td>\n",
       "      <td>5</td>\n",
       "      <td>No</td>\n",
       "      <td>Agency</td>\n",
       "      <td>1005</td>\n",
       "      <td>3/1/2004</td>\n",
       "      <td>Office</td>\n",
       "      <td>410.71</td>\n",
       "      <td>$117,564.07</td>\n",
       "    </tr>\n",
       "  </tbody>\n",
       "</table>\n",
       "</div>"
      ],
      "text/plain": [
       "  CustomerID birth_date  sex country     purpose  deal_satisfaction mortgage  \\\n",
       "0      C0001        NaN  NaN     USA  Investment                  5       No   \n",
       "\n",
       "   source  homeid date_sale    type    area         price  \n",
       "0  Agency    1005  3/1/2004  Office  410.71  $117,564.07   "
      ]
     },
     "execution_count": 11,
     "metadata": {},
     "output_type": "execute_result"
    }
   ],
   "source": [
    "df.head(1)"
   ]
  },
  {
   "cell_type": "markdown",
   "id": "98cd969a",
   "metadata": {},
   "source": [
    "Changing the column names for a better view"
   ]
  },
  {
   "cell_type": "code",
   "execution_count": 12,
   "id": "a28d2cf8",
   "metadata": {},
   "outputs": [],
   "source": [
    "col_names = {\n",
    "    'CustomerID':'CustomerID',\n",
    "    'birth_date':'DoB',\n",
    "    'sex':'Gender',\n",
    "    'country':'Country',\n",
    "    'purpose':'Purpose',\n",
    "    'deal_satisfaction':'Satisfaction',\n",
    "    'mortgage':'Mortgage',\n",
    "    'source':'Source',\n",
    "    'homeid':'PropertyID',\n",
    "    'date_sale':'Date',\n",
    "    'type':'Type',\n",
    "    'area':'Area',\n",
    "    'price':'Price',   \n",
    "}\n",
    "df=df.rename(columns = col_names)"
   ]
  },
  {
   "cell_type": "code",
   "execution_count": 13,
   "id": "fbc61b63",
   "metadata": {},
   "outputs": [
    {
     "data": {
      "text/plain": [
       "Index(['CustomerID', 'DoB', 'Gender', 'Country', 'Purpose', 'Satisfaction',\n",
       "       'Mortgage', 'Source', 'PropertyID', 'Date', 'Type', 'Area', 'Price'],\n",
       "      dtype='object')"
      ]
     },
     "execution_count": 13,
     "metadata": {},
     "output_type": "execute_result"
    }
   ],
   "source": [
    "df.columns"
   ]
  },
  {
   "cell_type": "code",
   "execution_count": 14,
   "id": "02c354a4",
   "metadata": {},
   "outputs": [],
   "source": [
    "col_order = ['CustomerID','DoB','Gender','Country','Purpose','Mortgage','Source','PropertyID','Type','Area','Price',\n",
    "             'Satisfaction','Date']\n",
    "df = df[col_order]"
   ]
  },
  {
   "cell_type": "code",
   "execution_count": 15,
   "id": "19709440",
   "metadata": {},
   "outputs": [
    {
     "data": {
      "text/plain": [
       "CustomerID       object\n",
       "DoB              object\n",
       "Gender           object\n",
       "Country          object\n",
       "Purpose          object\n",
       "Mortgage         object\n",
       "Source           object\n",
       "PropertyID        int64\n",
       "Type             object\n",
       "Area            float64\n",
       "Price            object\n",
       "Satisfaction      int64\n",
       "Date             object\n",
       "dtype: object"
      ]
     },
     "execution_count": 15,
     "metadata": {},
     "output_type": "execute_result"
    }
   ],
   "source": [
    "df.dtypes"
   ]
  },
  {
   "cell_type": "markdown",
   "id": "1f52f812",
   "metadata": {},
   "source": [
    "Changing the data types"
   ]
  },
  {
   "cell_type": "code",
   "execution_count": 16,
   "id": "38d2a802",
   "metadata": {},
   "outputs": [
    {
     "data": {
      "text/plain": [
       "array([1005, 1002, 1044, 1043, 1033, 1038, 1018, 1021, 1036, 1045, 1035,\n",
       "       1009, 1015, 1049, 1032, 1017, 1041, 1025, 1026, 1012, 1023, 1003,\n",
       "       1006, 1027, 1011, 1029, 1030, 1007, 1008, 2023, 2030, 1016, 1040,\n",
       "       1031, 1039, 1024, 2054, 2041, 2032, 3027, 1046, 2007, 2039, 2057,\n",
       "       2037, 2005, 2050, 2026, 2015, 2033, 3015, 2029, 3007, 3030, 2020,\n",
       "       2040, 2038, 2042, 4035, 4022, 3050, 2010, 2036, 2049, 2003, 2004,\n",
       "       2006, 2044, 2022, 2011, 2047, 2014, 3001, 3043, 2025, 2018, 2009,\n",
       "       2017, 2013, 3047, 2046, 2016, 2008, 2019, 2021, 2027, 2052, 3006,\n",
       "       3044, 4025, 3031, 2048, 2028, 2043, 3049, 3034, 5033, 5035, 5039,\n",
       "       2056, 2012, 3016, 3020, 3029, 5030, 3038, 3039, 3022, 3054, 3055,\n",
       "       4031, 2035, 3008, 3040, 3025, 5016, 5019, 3059, 2034, 3021, 4051,\n",
       "       3014, 2002, 3028, 3042, 3002, 3004, 3032, 3013, 3010, 3018, 2001,\n",
       "       3046, 2051, 3019, 3011, 3026, 3005, 3033, 5013, 3012, 3048, 2024,\n",
       "       4034, 3036, 4019, 5034, 4041, 4024, 4010, 4011, 4016, 5041, 5050,\n",
       "       3003, 4005, 5027, 5028, 5021, 5022, 5025, 5046, 3009, 4012, 4006,\n",
       "       4030, 4018, 5036, 3035, 5040, 4028, 4040, 1047, 2031, 3017, 3037,\n",
       "       3053, 3041, 3023, 4049, 4013, 4023, 5051, 3052, 1013, 1014, 1019,\n",
       "       1020, 1022, 1028, 1034, 1037, 1042, 4029], dtype=int64)"
      ]
     },
     "execution_count": 16,
     "metadata": {},
     "output_type": "execute_result"
    }
   ],
   "source": [
    "df['PropertyID'].unique()"
   ]
  },
  {
   "cell_type": "code",
   "execution_count": 17,
   "id": "24a8dcbc",
   "metadata": {},
   "outputs": [
    {
     "name": "stdout",
     "output_type": "stream",
     "text": [
      "object\n"
     ]
    }
   ],
   "source": [
    "df['PropertyID']=df['PropertyID'].astype('object')\n",
    "print(df['PropertyID'].dtype)"
   ]
  },
  {
   "cell_type": "code",
   "execution_count": 18,
   "id": "7bb434e7",
   "metadata": {},
   "outputs": [
    {
     "data": {
      "text/plain": [
       "array([5, 2, 3, 4, 1], dtype=int64)"
      ]
     },
     "execution_count": 18,
     "metadata": {},
     "output_type": "execute_result"
    }
   ],
   "source": [
    "df['Satisfaction'].unique()"
   ]
  },
  {
   "cell_type": "code",
   "execution_count": 19,
   "id": "e9ea3d83",
   "metadata": {},
   "outputs": [
    {
     "name": "stdout",
     "output_type": "stream",
     "text": [
      "object\n"
     ]
    }
   ],
   "source": [
    "df['Satisfaction']=df['Satisfaction'].astype('object')\n",
    "print(df['Satisfaction'].dtype)"
   ]
  },
  {
   "cell_type": "code",
   "execution_count": 20,
   "id": "bf084d7a",
   "metadata": {},
   "outputs": [
    {
     "data": {
      "text/plain": [
       "array(['$117,564.07 ', '$410,932.67 ', '$229,464.71 ', '$377,313.56 ',\n",
       "       '$412,856.56 ', '$207,581.43 ', '$191,389.87 ', '$218,585.92 ',\n",
       "       '$317,473.86 ', '$248,525.12 ', '$238,811.06 ', '$317,196.40 ',\n",
       "       '$208,930.81 ', '$467,083.31 ', '$215,410.28 ', '$432,679.91 ',\n",
       "       '$480,545.81 ', '$382,041.13 ', '$179,674.08 ', '$300,385.62 ',\n",
       "       '$261,579.89 ', '$193,660.62 ', '$198,841.70 ', '$276,759.18 ',\n",
       "       '$222,947.21 ', '$246,331.90 ', '$246,172.68 ', '$250,312.53 ',\n",
       "       '$246,050.40 ', '$219,373.41 ', '$214,341.34 ', '$224,076.84 ',\n",
       "       '$234,172.39 ', '$265,467.68 ', '$196,220.05 ', '$235,762.34 ',\n",
       "       '$306,363.64 ', '$225,050.52 ', '$306,878.46 ', '$245,572.79 ',\n",
       "       '$503,790.23 ', '$196,142.19 ', '$293,876.27 ', '$382,277.15 ',\n",
       "       '$229,581.78 ', '$257,183.48 ', '$297,008.97 ', '$198,075.99 ',\n",
       "       '$228,170.03 ', '$205,085.40 ', '$207,281.59 ', '$310,223.29 ',\n",
       "       '$231,552.33 ', '$215,774.28 ', '$241,671.52 ', '$224,463.87 ',\n",
       "       '$529,317.28 ', '$220,606.28 ', '$217,786.38 ', '$263,790.81 ',\n",
       "       '$248,274.31 ', '$326,885.34 ', '$460,001.26 ', '$323,915.81 ',\n",
       "       '$289,727.99 ', '$168,834.04 ', '$396,973.83 ', '$250,773.15 ',\n",
       "       '$344,568.74 ', '$225,401.62 ', '$214,631.68 ', '$336,695.25 ',\n",
       "       '$171,262.65 ', '$299,159.14 ', '$315,733.15 ', '$275,394.25 ',\n",
       "       '$237,060.15 ', '$199,054.20 ', '$236,639.56 ', '$188,273.73 ',\n",
       "       '$253,831.02 ', '$212,265.67 ', '$204,286.67 ', '$177,555.06 ',\n",
       "       '$217,748.48 ', '$247,739.44 ', '$484,458.03 ', '$356,506.37 ',\n",
       "       '$197,869.36 ', '$236,608.95 ', '$407,214.29 ', '$220,865.00 ',\n",
       "       '$195,153.16 ', '$355,073.40 ', '$338,181.18 ', '$256,821.64 ',\n",
       "       '$240,539.35 ', '$261,742.74 ', '$195,874.94 ', '$237,207.68 ',\n",
       "       '$226,342.80 ', '$258,572.48 ', '$310,831.21 ', '$357,538.20 ',\n",
       "       '$464,549.19 ', '$312,211.14 ', '$354,553.23 ', '$200,719.02 ',\n",
       "       '$380,809.52 ', '$200,678.75 ', '$192,092.24 ', '$219,865.76 ',\n",
       "       '$204,292.49 ', '$296,483.14 ', '$278,575.87 ', '$153,466.71 ',\n",
       "       '$367,976.46 ', '$252,927.84 ', '$225,290.22 ', '$496,266.41 ',\n",
       "       '$346,906.89 ', '$209,280.91 ', '$206,631.81 ', '$213,942.56 ',\n",
       "       '$261,871.70 ', '$210,038.70 ', '$242,740.66 ', '$253,025.78 ',\n",
       "       '$294,807.65 ', '$293,828.69 ', '$169,158.29 ', '$252,185.99 ',\n",
       "       '$376,964.62 ', '$230,154.53 ', '$203,491.85 ', '$212,520.83 ',\n",
       "       '$258,015.61 ', '$200,300.63 ', '$188,743.11 ', '$210,824.06 ',\n",
       "       '$249,075.66 ', '$456,919.46 ', '$243,052.59 ', '$358,525.59 ',\n",
       "       '$226,578.51 ', '$252,053.03 ', '$402,081.80 ', '$372,001.70 ',\n",
       "       '$223,917.34 ', '$201,518.89 ', '$244,820.67 ', '$263,123.42 ',\n",
       "       '$390,494.27 ', '$233,142.80 ', '$344,530.89 ', '$269,075.30 ',\n",
       "       '$223,577.32 ', '$234,750.59 ', '$287,466.41 ', '$165,430.28 ',\n",
       "       '$230,216.22 ', '$222,867.42 ', '$290,031.26 ', '$222,138.72 ',\n",
       "       '$310,577.04 ', '$310,832.59 ', '$286,433.57 ', '$269,278.57 ',\n",
       "       '$228,410.05 ', '$248,422.66 ', '$241,620.48 ', '$448,134.27 ',\n",
       "       '$452,667.01 ', '$205,098.21 ', '$204,808.16 ', '$190,119.50 ',\n",
       "       '$239,248.75 ', '$198,591.85 ', '$388,515.14 ', '$197,053.51 ',\n",
       "       '$235,633.26 ', '$249,591.99 ', '$291,494.36 ', '$206,958.71 ',\n",
       "       '$206,445.42 ', '$239,341.58 ', '$398,903.42 ', '$210,745.17 ',\n",
       "       '$331,154.88 ', '$204,434.68 ', '$189,194.31 ', '$204,027.09 ',\n",
       "       '$200,148.89 '], dtype=object)"
      ]
     },
     "execution_count": 20,
     "metadata": {},
     "output_type": "execute_result"
    }
   ],
   "source": [
    "df['Price'].unique()"
   ]
  },
  {
   "cell_type": "code",
   "execution_count": 21,
   "id": "82f6d6bf",
   "metadata": {},
   "outputs": [],
   "source": [
    "df['Price']=pd.to_numeric(df['Price'].str.replace('[\\$,]','',regex=True),errors ='coerce')"
   ]
  },
  {
   "cell_type": "code",
   "execution_count": 22,
   "id": "531e1b2e",
   "metadata": {},
   "outputs": [
    {
     "data": {
      "text/plain": [
       "array([117564.07, 410932.67, 229464.71, 377313.56, 412856.56, 207581.43,\n",
       "       191389.87, 218585.92, 317473.86, 248525.12, 238811.06, 317196.4 ,\n",
       "       208930.81, 467083.31, 215410.28, 432679.91, 480545.81, 382041.13,\n",
       "       179674.08, 300385.62, 261579.89, 193660.62, 198841.7 , 276759.18,\n",
       "       222947.21, 246331.9 , 246172.68, 250312.53, 246050.4 , 219373.41,\n",
       "       214341.34, 224076.84, 234172.39, 265467.68, 196220.05, 235762.34,\n",
       "       306363.64, 225050.52, 306878.46, 245572.79, 503790.23, 196142.19,\n",
       "       293876.27, 382277.15, 229581.78, 257183.48, 297008.97, 198075.99,\n",
       "       228170.03, 205085.4 , 207281.59, 310223.29, 231552.33, 215774.28,\n",
       "       241671.52, 224463.87, 529317.28, 220606.28, 217786.38, 263790.81,\n",
       "       248274.31, 326885.34, 460001.26, 323915.81, 289727.99, 168834.04,\n",
       "       396973.83, 250773.15, 344568.74, 225401.62, 214631.68, 336695.25,\n",
       "       171262.65, 299159.14, 315733.15, 275394.25, 237060.15, 199054.2 ,\n",
       "       236639.56, 188273.73, 253831.02, 212265.67, 204286.67, 177555.06,\n",
       "       217748.48, 247739.44, 484458.03, 356506.37, 197869.36, 236608.95,\n",
       "       407214.29, 220865.  , 195153.16, 355073.4 , 338181.18, 256821.64,\n",
       "       240539.35, 261742.74, 195874.94, 237207.68, 226342.8 , 258572.48,\n",
       "       310831.21, 357538.2 , 464549.19, 312211.14, 354553.23, 200719.02,\n",
       "       380809.52, 200678.75, 192092.24, 219865.76, 204292.49, 296483.14,\n",
       "       278575.87, 153466.71, 367976.46, 252927.84, 225290.22, 496266.41,\n",
       "       346906.89, 209280.91, 206631.81, 213942.56, 261871.7 , 210038.7 ,\n",
       "       242740.66, 253025.78, 294807.65, 293828.69, 169158.29, 252185.99,\n",
       "       376964.62, 230154.53, 203491.85, 212520.83, 258015.61, 200300.63,\n",
       "       188743.11, 210824.06, 249075.66, 456919.46, 243052.59, 358525.59,\n",
       "       226578.51, 252053.03, 402081.8 , 372001.7 , 223917.34, 201518.89,\n",
       "       244820.67, 263123.42, 390494.27, 233142.8 , 344530.89, 269075.3 ,\n",
       "       223577.32, 234750.59, 287466.41, 165430.28, 230216.22, 222867.42,\n",
       "       290031.26, 222138.72, 310577.04, 310832.59, 286433.57, 269278.57,\n",
       "       228410.05, 248422.66, 241620.48, 448134.27, 452667.01, 205098.21,\n",
       "       204808.16, 190119.5 , 239248.75, 198591.85, 388515.14, 197053.51,\n",
       "       235633.26, 249591.99, 291494.36, 206958.71, 206445.42, 239341.58,\n",
       "       398903.42, 210745.17, 331154.88, 204434.68, 189194.31, 204027.09,\n",
       "       200148.89])"
      ]
     },
     "execution_count": 22,
     "metadata": {},
     "output_type": "execute_result"
    }
   ],
   "source": [
    "df['Price'].unique()"
   ]
  },
  {
   "cell_type": "code",
   "execution_count": 23,
   "id": "f727597f",
   "metadata": {},
   "outputs": [
    {
     "data": {
      "text/plain": [
       "dtype('float64')"
      ]
     },
     "execution_count": 23,
     "metadata": {},
     "output_type": "execute_result"
    }
   ],
   "source": [
    "df['Price'].dtype"
   ]
  },
  {
   "cell_type": "markdown",
   "id": "d401418c",
   "metadata": {},
   "source": [
    "Checking the null Values "
   ]
  },
  {
   "cell_type": "code",
   "execution_count": 28,
   "id": "48af5c49",
   "metadata": {},
   "outputs": [],
   "source": [
    "def null(df):\n",
    "    null_values = pd.DataFrame(df.isnull().sum())\n",
    "    null_values[1] = null_values[0]/len(df)\n",
    "    null_values.columns = ['count','%pct']\n",
    "    filtered_null = null_values[null_values['%pct']>0]\n",
    "    return filtered_null"
   ]
  },
  {
   "cell_type": "code",
   "execution_count": 29,
   "id": "61d96cea",
   "metadata": {},
   "outputs": [
    {
     "data": {
      "text/html": [
       "<div>\n",
       "<style scoped>\n",
       "    .dataframe tbody tr th:only-of-type {\n",
       "        vertical-align: middle;\n",
       "    }\n",
       "\n",
       "    .dataframe tbody tr th {\n",
       "        vertical-align: top;\n",
       "    }\n",
       "\n",
       "    .dataframe thead th {\n",
       "        text-align: right;\n",
       "    }\n",
       "</style>\n",
       "<table border=\"1\" class=\"dataframe\">\n",
       "  <thead>\n",
       "    <tr style=\"text-align: right;\">\n",
       "      <th></th>\n",
       "      <th>count</th>\n",
       "      <th>%pct</th>\n",
       "    </tr>\n",
       "  </thead>\n",
       "  <tbody>\n",
       "    <tr>\n",
       "      <th>DoB</th>\n",
       "      <td>16</td>\n",
       "      <td>0.082474</td>\n",
       "    </tr>\n",
       "    <tr>\n",
       "      <th>Gender</th>\n",
       "      <td>16</td>\n",
       "      <td>0.082474</td>\n",
       "    </tr>\n",
       "  </tbody>\n",
       "</table>\n",
       "</div>"
      ],
      "text/plain": [
       "        count      %pct\n",
       "DoB        16  0.082474\n",
       "Gender     16  0.082474"
      ]
     },
     "execution_count": 29,
     "metadata": {},
     "output_type": "execute_result"
    }
   ],
   "source": [
    "null(df)"
   ]
  },
  {
   "cell_type": "markdown",
   "id": "c02431d5",
   "metadata": {},
   "source": [
    "Dropping the null values"
   ]
  },
  {
   "cell_type": "code",
   "execution_count": 30,
   "id": "67c4b4f8",
   "metadata": {},
   "outputs": [],
   "source": [
    "df=df.dropna(subset=['DoB','Gender'])"
   ]
  },
  {
   "cell_type": "code",
   "execution_count": 31,
   "id": "ed515c8d",
   "metadata": {},
   "outputs": [],
   "source": [
    "df['DoB']=pd.to_datetime(df['DoB'],format='%m/%d/%Y')\n",
    "df['DoB']=pd.to_datetime(df['Date'],format='%m/%d/%Y')"
   ]
  },
  {
   "cell_type": "code",
   "execution_count": 32,
   "id": "47bb71bf",
   "metadata": {},
   "outputs": [
    {
     "data": {
      "text/html": [
       "<div>\n",
       "<style scoped>\n",
       "    .dataframe tbody tr th:only-of-type {\n",
       "        vertical-align: middle;\n",
       "    }\n",
       "\n",
       "    .dataframe tbody tr th {\n",
       "        vertical-align: top;\n",
       "    }\n",
       "\n",
       "    .dataframe thead th {\n",
       "        text-align: right;\n",
       "    }\n",
       "</style>\n",
       "<table border=\"1\" class=\"dataframe\">\n",
       "  <thead>\n",
       "    <tr style=\"text-align: right;\">\n",
       "      <th></th>\n",
       "      <th>CustomerID</th>\n",
       "      <th>DoB</th>\n",
       "      <th>Gender</th>\n",
       "      <th>Country</th>\n",
       "      <th>Purpose</th>\n",
       "      <th>Mortgage</th>\n",
       "      <th>Source</th>\n",
       "      <th>PropertyID</th>\n",
       "      <th>Type</th>\n",
       "      <th>Area</th>\n",
       "      <th>Price</th>\n",
       "      <th>Satisfaction</th>\n",
       "      <th>Date</th>\n",
       "    </tr>\n",
       "  </thead>\n",
       "  <tbody>\n",
       "    <tr>\n",
       "      <th>20</th>\n",
       "      <td>C0021</td>\n",
       "      <td>2005-04-01</td>\n",
       "      <td>F</td>\n",
       "      <td>Russia</td>\n",
       "      <td>Investment</td>\n",
       "      <td>No</td>\n",
       "      <td>Website</td>\n",
       "      <td>1023</td>\n",
       "      <td>Apartment</td>\n",
       "      <td>782.25</td>\n",
       "      <td>261579.89</td>\n",
       "      <td>3</td>\n",
       "      <td>4/1/2005</td>\n",
       "    </tr>\n",
       "  </tbody>\n",
       "</table>\n",
       "</div>"
      ],
      "text/plain": [
       "   CustomerID        DoB Gender Country     Purpose Mortgage   Source  \\\n",
       "20      C0021 2005-04-01      F  Russia  Investment       No  Website   \n",
       "\n",
       "   PropertyID       Type    Area      Price Satisfaction      Date  \n",
       "20       1023  Apartment  782.25  261579.89            3  4/1/2005  "
      ]
     },
     "execution_count": 32,
     "metadata": {},
     "output_type": "execute_result"
    }
   ],
   "source": [
    "df.sample(1)"
   ]
  },
  {
   "cell_type": "markdown",
   "id": "b6e753a3",
   "metadata": {},
   "source": [
    "Calculating age instead of having date of birth"
   ]
  },
  {
   "cell_type": "code",
   "execution_count": 33,
   "id": "7e46ee7c",
   "metadata": {},
   "outputs": [],
   "source": [
    "df['Age']= 2023-df['DoB'].dt.year\n",
    "df=df.drop(['DoB'],axis = 1)\n",
    "col_order = ['CustomerID','Age','Gender','Country','Purpose','Mortgage','Source','PropertyID','Type','Area','Price',\n",
    "             'Satisfaction','Date']\n",
    "df = df[col_order]"
   ]
  },
  {
   "cell_type": "code",
   "execution_count": 34,
   "id": "4fc61da4",
   "metadata": {},
   "outputs": [
    {
     "data": {
      "text/html": [
       "<div>\n",
       "<style scoped>\n",
       "    .dataframe tbody tr th:only-of-type {\n",
       "        vertical-align: middle;\n",
       "    }\n",
       "\n",
       "    .dataframe tbody tr th {\n",
       "        vertical-align: top;\n",
       "    }\n",
       "\n",
       "    .dataframe thead th {\n",
       "        text-align: right;\n",
       "    }\n",
       "</style>\n",
       "<table border=\"1\" class=\"dataframe\">\n",
       "  <thead>\n",
       "    <tr style=\"text-align: right;\">\n",
       "      <th></th>\n",
       "      <th>CustomerID</th>\n",
       "      <th>Age</th>\n",
       "      <th>Gender</th>\n",
       "      <th>Country</th>\n",
       "      <th>Purpose</th>\n",
       "      <th>Mortgage</th>\n",
       "      <th>Source</th>\n",
       "      <th>PropertyID</th>\n",
       "      <th>Type</th>\n",
       "      <th>Area</th>\n",
       "      <th>Price</th>\n",
       "      <th>Satisfaction</th>\n",
       "      <th>Date</th>\n",
       "    </tr>\n",
       "  </thead>\n",
       "  <tbody>\n",
       "    <tr>\n",
       "      <th>182</th>\n",
       "      <td>C0171</td>\n",
       "      <td>17</td>\n",
       "      <td>M</td>\n",
       "      <td>USA</td>\n",
       "      <td>Personal Use</td>\n",
       "      <td>Yes</td>\n",
       "      <td>Website</td>\n",
       "      <td>5051</td>\n",
       "      <td>Apartment</td>\n",
       "      <td>790.54</td>\n",
       "      <td>249591.99</td>\n",
       "      <td>4</td>\n",
       "      <td>3/1/2006</td>\n",
       "    </tr>\n",
       "  </tbody>\n",
       "</table>\n",
       "</div>"
      ],
      "text/plain": [
       "    CustomerID  Age Gender Country       Purpose Mortgage   Source PropertyID  \\\n",
       "182      C0171   17      M     USA  Personal Use      Yes  Website       5051   \n",
       "\n",
       "          Type    Area      Price Satisfaction      Date  \n",
       "182  Apartment  790.54  249591.99            4  3/1/2006  "
      ]
     },
     "execution_count": 34,
     "metadata": {},
     "output_type": "execute_result"
    }
   ],
   "source": [
    "df.sample()"
   ]
  },
  {
   "cell_type": "code",
   "execution_count": 36,
   "id": "08c05cb0",
   "metadata": {},
   "outputs": [],
   "source": [
    "df['Date'] = pd.to_datetime(df['Date'])\n",
    "\n",
    "# Now you can perform datetime operations\n",
    "df['Year'] = df['Date'].dt.year\n",
    "df['Month'] = df['Date'].dt.month_name()\n",
    "df = df.drop(['Date'], axis=1)"
   ]
  },
  {
   "cell_type": "code",
   "execution_count": 37,
   "id": "e0ee0fb9",
   "metadata": {},
   "outputs": [
    {
     "data": {
      "text/plain": [
       "0"
      ]
     },
     "execution_count": 37,
     "metadata": {},
     "output_type": "execute_result"
    }
   ],
   "source": [
    "df.duplicated().sum()"
   ]
  },
  {
   "cell_type": "markdown",
   "id": "af328e75",
   "metadata": {},
   "source": [
    "Checking if there is a customer having same property twice or not, regardless the other factors, because other factors might change "
   ]
  },
  {
   "cell_type": "code",
   "execution_count": 38,
   "id": "0e78d9b2",
   "metadata": {},
   "outputs": [
    {
     "data": {
      "text/html": [
       "<div>\n",
       "<style scoped>\n",
       "    .dataframe tbody tr th:only-of-type {\n",
       "        vertical-align: middle;\n",
       "    }\n",
       "\n",
       "    .dataframe tbody tr th {\n",
       "        vertical-align: top;\n",
       "    }\n",
       "\n",
       "    .dataframe thead th {\n",
       "        text-align: right;\n",
       "    }\n",
       "</style>\n",
       "<table border=\"1\" class=\"dataframe\">\n",
       "  <thead>\n",
       "    <tr style=\"text-align: right;\">\n",
       "      <th></th>\n",
       "      <th>CustomerID</th>\n",
       "      <th>Age</th>\n",
       "      <th>Gender</th>\n",
       "      <th>Country</th>\n",
       "      <th>Purpose</th>\n",
       "      <th>Mortgage</th>\n",
       "      <th>Source</th>\n",
       "      <th>PropertyID</th>\n",
       "      <th>Type</th>\n",
       "      <th>Area</th>\n",
       "      <th>Price</th>\n",
       "      <th>Satisfaction</th>\n",
       "      <th>Year</th>\n",
       "      <th>Month</th>\n",
       "    </tr>\n",
       "  </thead>\n",
       "  <tbody>\n",
       "  </tbody>\n",
       "</table>\n",
       "</div>"
      ],
      "text/plain": [
       "Empty DataFrame\n",
       "Columns: [CustomerID, Age, Gender, Country, Purpose, Mortgage, Source, PropertyID, Type, Area, Price, Satisfaction, Year, Month]\n",
       "Index: []"
      ]
     },
     "execution_count": 38,
     "metadata": {},
     "output_type": "execute_result"
    }
   ],
   "source": [
    "df[df.duplicated(subset=['CustomerID','PropertyID'])]"
   ]
  },
  {
   "cell_type": "markdown",
   "id": "c8106909",
   "metadata": {},
   "source": [
    "Sanity check to identify and handle data values that fall outside the expected or valid range for a particular variable. Also, we can check the percentage of values that are negative "
   ]
  },
  {
   "cell_type": "code",
   "execution_count": 39,
   "id": "8cc6d1b4",
   "metadata": {},
   "outputs": [
    {
     "name": "stdout",
     "output_type": "stream",
     "text": [
      "Age,min:13,max:19\n",
      "Area,min:579.75,max:1942.5\n",
      "Price,min:153466.71,max:503790.23\n"
     ]
    }
   ],
   "source": [
    "num_var=['Age','Area','Price']\n",
    "for i in range(len(num_var)):\n",
    "    print('{},min:{},max:{}'.format(num_var[i],df[num_var[i]].min(),df[num_var[i]].max()))"
   ]
  },
  {
   "cell_type": "code",
   "execution_count": 40,
   "id": "392f635b",
   "metadata": {},
   "outputs": [],
   "source": [
    "def cat_checker(Var):\n",
    "    unique_value=pd.Series(df[Var].unique()).sort_values().values\n",
    "    return unique_value\n",
    "    \n",
    "    "
   ]
  },
  {
   "cell_type": "code",
   "execution_count": 41,
   "id": "d2d1c32f",
   "metadata": {},
   "outputs": [
    {
     "data": {
      "text/html": [
       "<div>\n",
       "<style scoped>\n",
       "    .dataframe tbody tr th:only-of-type {\n",
       "        vertical-align: middle;\n",
       "    }\n",
       "\n",
       "    .dataframe tbody tr th {\n",
       "        vertical-align: top;\n",
       "    }\n",
       "\n",
       "    .dataframe thead th {\n",
       "        text-align: right;\n",
       "    }\n",
       "</style>\n",
       "<table border=\"1\" class=\"dataframe\">\n",
       "  <thead>\n",
       "    <tr style=\"text-align: right;\">\n",
       "      <th></th>\n",
       "      <th>CustomerID</th>\n",
       "      <th>Age</th>\n",
       "      <th>Gender</th>\n",
       "      <th>Country</th>\n",
       "      <th>Purpose</th>\n",
       "      <th>Mortgage</th>\n",
       "      <th>Source</th>\n",
       "      <th>PropertyID</th>\n",
       "      <th>Type</th>\n",
       "      <th>Area</th>\n",
       "      <th>Price</th>\n",
       "      <th>Satisfaction</th>\n",
       "      <th>Year</th>\n",
       "      <th>Month</th>\n",
       "    </tr>\n",
       "  </thead>\n",
       "  <tbody>\n",
       "    <tr>\n",
       "      <th>96</th>\n",
       "      <td>C0086</td>\n",
       "      <td>15</td>\n",
       "      <td>F</td>\n",
       "      <td>USA</td>\n",
       "      <td>Personal Use</td>\n",
       "      <td>No</td>\n",
       "      <td>Website</td>\n",
       "      <td>5033</td>\n",
       "      <td>Apartment</td>\n",
       "      <td>798.28</td>\n",
       "      <td>240539.35</td>\n",
       "      <td>1</td>\n",
       "      <td>2008</td>\n",
       "      <td>May</td>\n",
       "    </tr>\n",
       "  </tbody>\n",
       "</table>\n",
       "</div>"
      ],
      "text/plain": [
       "   CustomerID  Age Gender Country       Purpose Mortgage   Source PropertyID  \\\n",
       "96      C0086   15      F     USA  Personal Use       No  Website       5033   \n",
       "\n",
       "         Type    Area      Price Satisfaction  Year Month  \n",
       "96  Apartment  798.28  240539.35            1  2008   May  "
      ]
     },
     "execution_count": 41,
     "metadata": {},
     "output_type": "execute_result"
    }
   ],
   "source": [
    "df.sample(1)"
   ]
  },
  {
   "cell_type": "code",
   "execution_count": 42,
   "id": "3b1a74d2",
   "metadata": {},
   "outputs": [
    {
     "data": {
      "text/plain": [
       "array(['F', 'M'], dtype=object)"
      ]
     },
     "execution_count": 42,
     "metadata": {},
     "output_type": "execute_result"
    }
   ],
   "source": [
    "cat_checker('Gender')"
   ]
  },
  {
   "cell_type": "code",
   "execution_count": 43,
   "id": "c8702962",
   "metadata": {},
   "outputs": [
    {
     "data": {
      "text/plain": [
       "array(['Investment', 'Personal Use'], dtype=object)"
      ]
     },
     "execution_count": 43,
     "metadata": {},
     "output_type": "execute_result"
    }
   ],
   "source": [
    "cat_checker('Purpose')"
   ]
  },
  {
   "cell_type": "code",
   "execution_count": 44,
   "id": "c648e6d7",
   "metadata": {},
   "outputs": [
    {
     "data": {
      "text/plain": [
       "array(['No', 'Yes'], dtype=object)"
      ]
     },
     "execution_count": 44,
     "metadata": {},
     "output_type": "execute_result"
    }
   ],
   "source": [
    "cat_checker('Mortgage')"
   ]
  },
  {
   "cell_type": "code",
   "execution_count": 45,
   "id": "f928c158",
   "metadata": {},
   "outputs": [
    {
     "data": {
      "text/plain": [
       "array(['Agency', 'Client', 'Website'], dtype=object)"
      ]
     },
     "execution_count": 45,
     "metadata": {},
     "output_type": "execute_result"
    }
   ],
   "source": [
    "cat_checker('Source')"
   ]
  },
  {
   "cell_type": "code",
   "execution_count": 46,
   "id": "c784c047",
   "metadata": {},
   "outputs": [
    {
     "data": {
      "text/plain": [
       "array(['Apartment', 'Office'], dtype=object)"
      ]
     },
     "execution_count": 46,
     "metadata": {},
     "output_type": "execute_result"
    }
   ],
   "source": [
    "cat_checker('Type')"
   ]
  },
  {
   "cell_type": "code",
   "execution_count": 47,
   "id": "3968b35e",
   "metadata": {},
   "outputs": [
    {
     "data": {
      "text/plain": [
       "array([1, 2, 3, 4, 5], dtype=object)"
      ]
     },
     "execution_count": 47,
     "metadata": {},
     "output_type": "execute_result"
    }
   ],
   "source": [
    "cat_checker('Satisfaction')"
   ]
  },
  {
   "cell_type": "markdown",
   "id": "efc35784",
   "metadata": {},
   "source": [
    "Age Distribution of Customers"
   ]
  },
  {
   "cell_type": "code",
   "execution_count": 48,
   "id": "81ea3524",
   "metadata": {},
   "outputs": [],
   "source": [
    "def age_dist(country):\n",
    "    country_df=df[df['Country']== country]\n",
    "    age_range = pd.cut(\n",
    "    country_df['Age'],\n",
    "    bins=[0,30,50,70,100],\n",
    "    labels= ['0-30','31-50','51-70','71-100'])\n",
    "    return age_range.value_counts()"
   ]
  },
  {
   "cell_type": "code",
   "execution_count": 49,
   "id": "1d14a686",
   "metadata": {},
   "outputs": [
    {
     "data": {
      "text/plain": [
       "0-30      1\n",
       "31-50     0\n",
       "51-70     0\n",
       "71-100    0\n",
       "Name: Age, dtype: int64"
      ]
     },
     "execution_count": 49,
     "metadata": {},
     "output_type": "execute_result"
    }
   ],
   "source": [
    "age_dist('Mexico')"
   ]
  },
  {
   "cell_type": "markdown",
   "id": "d02eb2f8",
   "metadata": {},
   "source": [
    "Average Price"
   ]
  },
  {
   "cell_type": "code",
   "execution_count": 50,
   "id": "13c60695",
   "metadata": {},
   "outputs": [
    {
     "name": "stdout",
     "output_type": "stream",
     "text": [
      "Average price in USA:271020.3746496815\n",
      "Average price in Belgium:229075.47\n",
      "Average price in Russia:278828.83499999996\n",
      "Average price in USA :316315.58666666667\n",
      "Average price in Denmark:257183.48\n",
      "Average price in Canada:274069.38428571424\n",
      "Average price in Mexico:338181.18\n",
      "Average price in UK:220142.68\n",
      "Average price in Germany:205098.21\n"
     ]
    }
   ],
   "source": [
    "def avg_price(country):\n",
    "    country_df = df[df['Country'] == country]\n",
    "    return country_df['Price'].mean()\n",
    "unq_country=df['Country'].unique()\n",
    "for country in unq_country:\n",
    "    average_price= avg_price(country)\n",
    "    print(f\"Average price in {country}:{average_price}\")"
   ]
  },
  {
   "cell_type": "markdown",
   "id": "057e0175",
   "metadata": {},
   "source": [
    "Distribution of Sales across months and years"
   ]
  },
  {
   "cell_type": "code",
   "execution_count": 52,
   "id": "f7424df9",
   "metadata": {},
   "outputs": [],
   "source": [
    "def sales_dist(country):\n",
    "    country_df=df[df['Country'] == country]\n",
    "    return country_df.groupby(['Year','Month']).size()"
   ]
  },
  {
   "cell_type": "code",
   "execution_count": 53,
   "id": "aa12a7cc",
   "metadata": {},
   "outputs": [
    {
     "data": {
      "text/plain": [
       "Year  Month    \n",
       "2004  August        2\n",
       "      June          2\n",
       "      March         1\n",
       "      November      2\n",
       "      October       5\n",
       "2005  August        2\n",
       "      December      2\n",
       "      February      1\n",
       "      June          2\n",
       "      March         4\n",
       "      November      1\n",
       "      October       1\n",
       "2006  April         1\n",
       "      August        5\n",
       "      December      2\n",
       "      February      1\n",
       "      July          1\n",
       "      June          4\n",
       "      March         4\n",
       "      May           1\n",
       "      November      4\n",
       "      October       5\n",
       "      September     6\n",
       "2007  April         7\n",
       "      August        8\n",
       "      December      8\n",
       "      February      4\n",
       "      January       4\n",
       "      July          5\n",
       "      June          7\n",
       "      March        10\n",
       "      May           6\n",
       "      November     16\n",
       "      October       7\n",
       "      September     6\n",
       "2008  December      3\n",
       "      January       3\n",
       "      May           3\n",
       "2010  May           1\n",
       "dtype: int64"
      ]
     },
     "execution_count": 53,
     "metadata": {},
     "output_type": "execute_result"
    }
   ],
   "source": [
    "sales_dist('USA')"
   ]
  },
  {
   "cell_type": "markdown",
   "id": "71d65ca0",
   "metadata": {},
   "source": [
    "Percentage of sales from each source "
   ]
  },
  {
   "cell_type": "code",
   "execution_count": 60,
   "id": "e9014c36",
   "metadata": {},
   "outputs": [],
   "source": [
    "def ads_effect(Country):\n",
    "    country_df= df[df['Country']==Country]\n",
    "    return country_df['Source'].value_counts(normalize=True)*100"
   ]
  },
  {
   "cell_type": "code",
   "execution_count": 61,
   "id": "a2cdddd5",
   "metadata": {},
   "outputs": [
    {
     "data": {
      "text/plain": [
       "Agency    100.0\n",
       "Name: Source, dtype: float64"
      ]
     },
     "execution_count": 61,
     "metadata": {},
     "output_type": "execute_result"
    }
   ],
   "source": [
    "ads_effect('UK')"
   ]
  },
  {
   "cell_type": "markdown",
   "id": "f37d7c14",
   "metadata": {},
   "source": [
    "Correlation Analysis among age, price and area"
   ]
  },
  {
   "cell_type": "code",
   "execution_count": 62,
   "id": "307cf1e4",
   "metadata": {},
   "outputs": [],
   "source": [
    "def cor_age_price_area(country):\n",
    "    country_df = df[df['Country']== country]\n",
    "    return country_df[['Age','Price','Area']].corr()"
   ]
  },
  {
   "cell_type": "code",
   "execution_count": 63,
   "id": "a336ec27",
   "metadata": {},
   "outputs": [
    {
     "data": {
      "text/html": [
       "<div>\n",
       "<style scoped>\n",
       "    .dataframe tbody tr th:only-of-type {\n",
       "        vertical-align: middle;\n",
       "    }\n",
       "\n",
       "    .dataframe tbody tr th {\n",
       "        vertical-align: top;\n",
       "    }\n",
       "\n",
       "    .dataframe thead th {\n",
       "        text-align: right;\n",
       "    }\n",
       "</style>\n",
       "<table border=\"1\" class=\"dataframe\">\n",
       "  <thead>\n",
       "    <tr style=\"text-align: right;\">\n",
       "      <th></th>\n",
       "      <th>Age</th>\n",
       "      <th>Price</th>\n",
       "      <th>Area</th>\n",
       "    </tr>\n",
       "  </thead>\n",
       "  <tbody>\n",
       "    <tr>\n",
       "      <th>Age</th>\n",
       "      <td>1.000000</td>\n",
       "      <td>0.091421</td>\n",
       "      <td>0.098156</td>\n",
       "    </tr>\n",
       "    <tr>\n",
       "      <th>Price</th>\n",
       "      <td>0.091421</td>\n",
       "      <td>1.000000</td>\n",
       "      <td>0.938110</td>\n",
       "    </tr>\n",
       "    <tr>\n",
       "      <th>Area</th>\n",
       "      <td>0.098156</td>\n",
       "      <td>0.938110</td>\n",
       "      <td>1.000000</td>\n",
       "    </tr>\n",
       "  </tbody>\n",
       "</table>\n",
       "</div>"
      ],
      "text/plain": [
       "            Age     Price      Area\n",
       "Age    1.000000  0.091421  0.098156\n",
       "Price  0.091421  1.000000  0.938110\n",
       "Area   0.098156  0.938110  1.000000"
      ]
     },
     "execution_count": 63,
     "metadata": {},
     "output_type": "execute_result"
    }
   ],
   "source": [
    "cor_age_price_area('USA')"
   ]
  }
 ],
 "metadata": {
  "kernelspec": {
   "display_name": "Python 3 (ipykernel)",
   "language": "python",
   "name": "python3"
  },
  "language_info": {
   "codemirror_mode": {
    "name": "ipython",
    "version": 3
   },
   "file_extension": ".py",
   "mimetype": "text/x-python",
   "name": "python",
   "nbconvert_exporter": "python",
   "pygments_lexer": "ipython3",
   "version": "3.11.3"
  }
 },
 "nbformat": 4,
 "nbformat_minor": 5
}
